{
  "cells": [
    {
      "cell_type": "markdown",
      "metadata": {
        "id": "view-in-github",
        "colab_type": "text"
      },
      "source": [
        "<a href=\"https://colab.research.google.com/github/Matrix7043/Machine_learning101/blob/main/Logistic_Regression.ipynb\" target=\"_parent\"><img src=\"https://colab.research.google.com/assets/colab-badge.svg\" alt=\"Open In Colab\"/></a>"
      ]
    },
    {
      "cell_type": "code",
      "execution_count": 21,
      "id": "2b21f3ce-7151-4500-96c8-49987f1363c2",
      "metadata": {
        "tags": [],
        "id": "2b21f3ce-7151-4500-96c8-49987f1363c2"
      },
      "outputs": [],
      "source": [
        "import numpy as np\n",
        "import pandas as pd\n",
        "import matplotlib.pyplot as plt\n",
        "from sklearn.datasets import fetch_openml\n",
        "from sklearn.metrics import confusion_matrix"
      ]
    },
    {
      "cell_type": "code",
      "source": [
        "mnist = fetch_openml('mnist_784', version=1)\n",
        "mnist.keys()"
      ],
      "metadata": {
        "id": "rxv9_4XtfOSn",
        "colab": {
          "base_uri": "https://localhost:8080/"
        },
        "outputId": "278ea964-1e1b-4747-991a-3ce1031455ce"
      },
      "id": "rxv9_4XtfOSn",
      "execution_count": 3,
      "outputs": [
        {
          "output_type": "stream",
          "name": "stderr",
          "text": [
            "/usr/local/lib/python3.10/dist-packages/sklearn/datasets/_openml.py:968: FutureWarning: The default value of `parser` will change from `'liac-arff'` to `'auto'` in 1.4. You can set `parser='auto'` to silence this warning. Therefore, an `ImportError` will be raised from 1.4 if the dataset is dense and pandas is not installed. Note that the pandas parser may return different data types. See the Notes Section in fetch_openml's API doc for details.\n",
            "  warn(\n"
          ]
        },
        {
          "output_type": "execute_result",
          "data": {
            "text/plain": [
              "dict_keys(['data', 'target', 'frame', 'categories', 'feature_names', 'target_names', 'DESCR', 'details', 'url'])"
            ]
          },
          "metadata": {},
          "execution_count": 3
        }
      ]
    },
    {
      "cell_type": "code",
      "execution_count": 7,
      "id": "99523f53-f905-451d-b451-5a1dc27f1720",
      "metadata": {
        "tags": [],
        "id": "99523f53-f905-451d-b451-5a1dc27f1720"
      },
      "outputs": [],
      "source": [
        "np.random.seed(69)"
      ]
    },
    {
      "cell_type": "code",
      "execution_count": 8,
      "id": "b538afcf-ac7f-45c0-817b-47bb89b4bbe9",
      "metadata": {
        "tags": [],
        "id": "b538afcf-ac7f-45c0-817b-47bb89b4bbe9"
      },
      "outputs": [],
      "source": [
        "def sigmoid(x):\n",
        "    return 1/(1+np.exp(-1*x))"
      ]
    },
    {
      "cell_type": "code",
      "execution_count": 9,
      "id": "6a5eac24-69a7-42fd-a6fc-6c8ac7894390",
      "metadata": {
        "tags": [],
        "id": "6a5eac24-69a7-42fd-a6fc-6c8ac7894390"
      },
      "outputs": [],
      "source": [
        "def loss(p,y):\n",
        "    return -1*np.mean(y*np.log(p)+(1-y)*np.log((1-p)))"
      ]
    },
    {
      "cell_type": "code",
      "source": [
        "class LogisticRegression:\n",
        "\n",
        "    def __init__(self, x, y, split, activation, loss, batch_size = None):\n",
        "        self.x = x\n",
        "        self.y = y\n",
        "        ones = np.ones((self.x.shape[0],1))\n",
        "        self.x = np.hstack((self.x,ones))\n",
        "\n",
        "        split_ = int(len(x)*split)\n",
        "\n",
        "        self.x = x[:split_]\n",
        "        self.y = y[:split_]\n",
        "\n",
        "        self.x_t = x_test[split_:]\n",
        "        self.y_t = y_test[split_:]\n",
        "\n",
        "        self.y_pred = np.zeros((self.y_t.shape[0], 1))\n",
        "\n",
        "        self.w = np.random.rand(x.shape[1],1)\n",
        "        self.w[-1][0] = 1\n",
        "        self.batch_size = batch_size if batch_size else len(self.x)\n",
        "        self.activation = activation\n",
        "        self.loss = loss\n",
        "\n",
        "    def forward(self, x_batch, y_batch):\n",
        "        n = np.dot(x_batch, self.w)\n",
        "        p = self.activation(n)\n",
        "        c = self.loss(p, y_batch)\n",
        "        return x_batch, y_batch, p\n",
        "\n",
        "    def backward(self, x_batch, y_batch, p):\n",
        "        return np.mean((p - y_batch) * x_batch, axis=0).reshape(-1, 1)\n",
        "\n",
        "    def fit(self, epoch, learning_rate):\n",
        "        for i in range(len(self.x)//self.batch_size):\n",
        "            x_batch = self.x[self.batch_size*i: self.batch_size*(i+1)]\n",
        "            y_batch = self.y[self.batch_size*i: self.batch_size*(i+1)]\n",
        "            for _ in range(epoch):\n",
        "                x_batch, y_batch, p = self.forward(x_batch, y_batch)\n",
        "                dJ_dw = self.backward(x_batch, y_batch, p)\n",
        "                self.w = self.w - learning_rate * dJ_dw\n",
        "\n",
        "    def predict(self):\n",
        "        xt = self.x_t\n",
        "        yt = self.y_t\n",
        "        self.y_pred = self.forward(xt, yt)[2]\n",
        "        return self.y_pred\n",
        "\n",
        "    def accuracy(self):\n",
        "        max = [0, 0, 0]\n",
        "        temp = [0, 0, 0]\n",
        "\n",
        "        for t in range(100, 0, -1):\n",
        "            temp[1] = t/100\n",
        "            temp[2] = (self.y_pred > temp[1])\n",
        "            yt = (self.y_t == temp[2])\n",
        "            temp[0] = np.mean(yt)\n",
        "            if (temp[0] > max[0]):\n",
        "                max = temp[::]\n",
        "        return max[0]\n",
        ""
      ],
      "metadata": {
        "id": "dOitkJP4IRGD"
      },
      "id": "dOitkJP4IRGD",
      "execution_count": 95,
      "outputs": []
    },
    {
      "cell_type": "code",
      "source": [
        "x2 = mnist[\"data\"].head(1000).to_numpy()\n",
        "y2 = mnist[\"target\"].head(1000).to_numpy().reshape(-1,1).astype(int)\n",
        "y_t = (y2==5).astype(int)\n",
        "o = np.ones((x2.shape[0],1))\n",
        "x_t = np.hstack((x2,o))"
      ],
      "metadata": {
        "id": "mic2aC24U-rj"
      },
      "id": "mic2aC24U-rj",
      "execution_count": 83,
      "outputs": []
    },
    {
      "cell_type": "code",
      "source": [
        "log = LogisticRegression(x_t, y_t, 0.7, sigmoid, loss)"
      ],
      "metadata": {
        "id": "U5fTUEuBUzm_"
      },
      "id": "U5fTUEuBUzm_",
      "execution_count": null,
      "outputs": []
    },
    {
      "cell_type": "code",
      "source": [
        "log.fit(1000, 0.001)"
      ],
      "metadata": {
        "colab": {
          "base_uri": "https://localhost:8080/"
        },
        "id": "pTDad3hnW6Ld",
        "outputId": "0b547726-8aea-4760-a8fa-9b22a8da0c50"
      },
      "id": "pTDad3hnW6Ld",
      "execution_count": 98,
      "outputs": [
        {
          "output_type": "stream",
          "name": "stderr",
          "text": [
            "<ipython-input-9-45fe522252c0>:2: RuntimeWarning: invalid value encountered in multiply\n",
            "  return -1*np.mean(y*np.log(p)+(1-y)*np.log((1-p)))\n",
            "<ipython-input-8-2e8191186429>:2: RuntimeWarning: overflow encountered in exp\n",
            "  return 1/(1+np.exp(-1*x))\n"
          ]
        }
      ]
    },
    {
      "cell_type": "code",
      "source": [
        "log.predict()"
      ],
      "metadata": {
        "colab": {
          "base_uri": "https://localhost:8080/"
        },
        "id": "DES6sVVggBlQ",
        "outputId": "0d1beb51-d000-4a5b-82f2-b90878360f2b"
      },
      "id": "DES6sVVggBlQ",
      "execution_count": 100,
      "outputs": [
        {
          "output_type": "stream",
          "name": "stderr",
          "text": [
            "<ipython-input-8-2e8191186429>:2: RuntimeWarning: overflow encountered in exp\n",
            "  return 1/(1+np.exp(-1*x))\n",
            "<ipython-input-9-45fe522252c0>:2: RuntimeWarning: invalid value encountered in multiply\n",
            "  return -1*np.mean(y*np.log(p)+(1-y)*np.log((1-p)))\n"
          ]
        },
        {
          "output_type": "execute_result",
          "data": {
            "text/plain": [
              "array([[2.85285792e-097],\n",
              "       [0.00000000e+000],\n",
              "       [0.00000000e+000],\n",
              "       ...,\n",
              "       [1.79828034e-162],\n",
              "       [1.00000000e+000],\n",
              "       [0.00000000e+000]])"
            ]
          },
          "metadata": {},
          "execution_count": 100
        }
      ]
    },
    {
      "cell_type": "code",
      "source": [
        "print(log.accuracy())"
      ],
      "metadata": {
        "colab": {
          "base_uri": "https://localhost:8080/"
        },
        "id": "yvhX_LvTbPDB",
        "outputId": "3f34fe2f-b885-4d62-b078-e9ca96ee36f1"
      },
      "id": "yvhX_LvTbPDB",
      "execution_count": 102,
      "outputs": [
        {
          "output_type": "stream",
          "name": "stdout",
          "text": [
            "0.9109677419354839\n"
          ]
        }
      ]
    }
  ],
  "metadata": {
    "kernelspec": {
      "display_name": "Python 3 (ipykernel)",
      "language": "python",
      "name": "python3"
    },
    "language_info": {
      "codemirror_mode": {
        "name": "ipython",
        "version": 3
      },
      "file_extension": ".py",
      "mimetype": "text/x-python",
      "name": "python",
      "nbconvert_exporter": "python",
      "pygments_lexer": "ipython3",
      "version": "3.11.5"
    },
    "colab": {
      "provenance": [],
      "include_colab_link": true
    }
  },
  "nbformat": 4,
  "nbformat_minor": 5
}