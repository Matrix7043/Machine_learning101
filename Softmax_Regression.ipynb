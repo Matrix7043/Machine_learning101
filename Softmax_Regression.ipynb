{
  "nbformat": 4,
  "nbformat_minor": 0,
  "metadata": {
    "colab": {
      "provenance": [],
      "authorship_tag": "ABX9TyNvjSWoFwpCfawU7f5ASBIY",
      "include_colab_link": true
    },
    "kernelspec": {
      "name": "python3",
      "display_name": "Python 3"
    },
    "language_info": {
      "name": "python"
    }
  },
  "cells": [
    {
      "cell_type": "markdown",
      "metadata": {
        "id": "view-in-github",
        "colab_type": "text"
      },
      "source": [
        "<a href=\"https://colab.research.google.com/github/Matrix7043/Machine_learning101/blob/main/Softmax_Regression.ipynb\" target=\"_parent\"><img src=\"https://colab.research.google.com/assets/colab-badge.svg\" alt=\"Open In Colab\"/></a>"
      ]
    },
    {
      "cell_type": "code",
      "execution_count": 2,
      "metadata": {
        "tags": [],
        "id": "2b21f3ce-7151-4500-96c8-49987f1363c2"
      },
      "outputs": [],
      "source": [
        "import numpy as np\n",
        "import pandas as pd\n",
        "import matplotlib.pyplot as plt\n",
        "from sklearn.datasets import fetch_openml\n",
        "from sklearn.metrics import confusion_matrix\n",
        "from sklearn.datasets import load_iris"
      ]
    },
    {
      "cell_type": "code",
      "execution_count": 35,
      "metadata": {
        "tags": [],
        "id": "99523f53-f905-451d-b451-5a1dc27f1720"
      },
      "outputs": [],
      "source": [
        "np.random.seed(69)"
      ]
    },
    {
      "cell_type": "code",
      "source": [
        "iris_data = load_iris()\n",
        "iris_data.keys()\n",
        "x_train = iris_data['data']\n",
        "one = np.ones((150, 1))\n",
        "x_train = np.hstack((x_train, one))\n",
        "y_t = iris_data['target'].reshape(-1, 1)\n",
        "f = (y_t == 0).reshape(-1)\n",
        "g = (y_t == 1).reshape(-1)\n",
        "h = (y_t == 2).reshape(-1)\n",
        "y_train = np.stack((f, g, h), axis=1)"
      ],
      "metadata": {
        "id": "INysGj3s0nEI"
      },
      "execution_count": 34,
      "outputs": []
    },
    {
      "cell_type": "code",
      "source": [
        "def denom(x):\n",
        "    return 1 / np.sum(x, axis=1, keepdims=True)\n",
        "\n",
        "def normalize(x):\n",
        "    return x * denom(x)\n",
        "\n",
        "def softmax(x):\n",
        "    return normalize(np.exp(x))"
      ],
      "metadata": {
        "id": "m3SpKWfUcI79"
      },
      "execution_count": 36,
      "outputs": []
    },
    {
      "cell_type": "code",
      "source": [
        "def log_loss(y_train, prediction):\n",
        "    loss = -1*y_train*np.log(prediction + 1e-6)\n",
        "    loss = np.sum(loss, axis=1, keepdims=True)\n",
        "    return loss"
      ],
      "metadata": {
        "id": "IbxF8w9wHagC"
      },
      "execution_count": 93,
      "outputs": []
    },
    {
      "cell_type": "code",
      "source": [
        "class SoftmaxRegression:\n",
        "\n",
        "    def __init__(self, x, y, split, activation, loss, batch_size = None):\n",
        "        self.x = x\n",
        "        self.y = y\n",
        "        ones = np.ones((self.x.shape[0],1))\n",
        "        self.x = np.hstack((self.x,ones))\n",
        "\n",
        "        split_ = int(len(x)*split)\n",
        "\n",
        "        self.x = x[:split_]\n",
        "        self.y = y[:split_]\n",
        "\n",
        "        self.x_t = x[split_:]\n",
        "        self.y_t = y[split_:]\n",
        "\n",
        "        self.y_pred = np.zeros((self.y_t.shape[0], 1))\n",
        "\n",
        "        self.w = np.random.rand(x.shape[1],1)\n",
        "        self.batch_size = batch_size if batch_size else len(self.x)\n",
        "        self.activation = activation\n",
        "        self.loss = loss\n",
        "\n",
        "    def forward(self, x_batch, y_batch):\n",
        "        n = np.dot(x_batch, self.w)\n",
        "        p = self.activation(n)\n",
        "\n",
        "        c = self.loss(p, y_batch)\n",
        "        return x_batch, y_batch, p\n",
        "\n",
        "    def backward(self, x_batch, y_batch, p):\n",
        "        dJ_dW = np.dot(x_batch.T,  p - y_batch)\n",
        "        return dJ_dW/x_batch.shape[0]\n",
        "\n",
        "    def fit(self, epoch, learning_rate):\n",
        "        for i in range(len(self.x)//self.batch_size):\n",
        "            x_batch = self.x[self.batch_size*i: self.batch_size*(i+1)]\n",
        "            y_batch = self.y[self.batch_size*i: self.batch_size*(i+1)]\n",
        "            for _ in range(epoch):\n",
        "                x_batch, y_batch, p = self.forward(x_batch, y_batch)\n",
        "                dJ_dw = self.backward(x_batch, y_batch, p)\n",
        "                self.w = self.w - learning_rate * dJ_dw\n",
        "\n",
        "    def predict(self):\n",
        "        xt = self.x_t\n",
        "        yt = self.y_t\n",
        "        self.y_pred = self.forward(xt, yt)[2]\n",
        "        return self.y_pred\n",
        "\n",
        "    def accuracy(self):\n",
        "\n",
        "        yp = np.zeros((self.y_pred.shape[0]))\n",
        "        yt = np.zeros((self.y_pred.shape[0]))\n",
        "\n",
        "        for i,j in enumerate(self.y_pred):\n",
        "            yp[i] = np.argmax(j)\n",
        "            yt[i] = np.argmax(self.y_t[i])\n",
        "\n",
        "        yp.astype(int)\n",
        "\n",
        "        acc = np.mean(yp == yt)\n",
        "\n",
        "        return yp, acc\n"
      ],
      "metadata": {
        "id": "dOitkJP4IRGD"
      },
      "execution_count": 94,
      "outputs": []
    },
    {
      "cell_type": "code",
      "source": [
        "soft = SoftmaxRegression(x_train, y_train, 0.9, softmax, log_loss)"
      ],
      "metadata": {
        "id": "zN0SG9eimm_j"
      },
      "execution_count": 95,
      "outputs": []
    },
    {
      "cell_type": "code",
      "source": [
        "soft.fit(epoch=10000, learning_rate=0.001)"
      ],
      "metadata": {
        "id": "g7ndOGURX_r6"
      },
      "execution_count": 96,
      "outputs": []
    },
    {
      "cell_type": "code",
      "source": [
        "soft.predict()"
      ],
      "metadata": {
        "colab": {
          "base_uri": "https://localhost:8080/"
        },
        "id": "IttpxIEaYWUl",
        "outputId": "fe712017-2533-44a3-e2cf-c94a5057c53d"
      },
      "execution_count": 97,
      "outputs": [
        {
          "output_type": "execute_result",
          "data": {
            "text/plain": [
              "array([[0.00260716, 0.42125956, 0.57613328],\n",
              "       [0.004819  , 0.3206845 , 0.67449651],\n",
              "       [0.00715346, 0.42733727, 0.56550927],\n",
              "       [0.01871081, 0.49159461, 0.48969458],\n",
              "       [0.00862763, 0.47513686, 0.51623552],\n",
              "       [0.00408189, 0.35653705, 0.63938106],\n",
              "       [0.01266103, 0.49985413, 0.48748484],\n",
              "       [0.00597943, 0.36606417, 0.62795639],\n",
              "       [0.00301596, 0.33884934, 0.6581347 ],\n",
              "       [0.00399613, 0.33722667, 0.6587772 ],\n",
              "       [0.00838961, 0.44170492, 0.54990547],\n",
              "       [0.00729378, 0.44673529, 0.54597093],\n",
              "       [0.00976534, 0.46039192, 0.52984273],\n",
              "       [0.00737582, 0.35754152, 0.63508266],\n",
              "       [0.01023562, 0.41947217, 0.5702922 ]])"
            ]
          },
          "metadata": {},
          "execution_count": 97
        }
      ]
    },
    {
      "cell_type": "code",
      "source": [
        "soft.accuracy()[1]"
      ],
      "metadata": {
        "colab": {
          "base_uri": "https://localhost:8080/"
        },
        "id": "VUu3p5mZcrXK",
        "outputId": "9ece3ec7-9b26-4766-b981-29891263a5c1"
      },
      "execution_count": 98,
      "outputs": [
        {
          "output_type": "execute_result",
          "data": {
            "text/plain": [
              "0.8666666666666667"
            ]
          },
          "metadata": {},
          "execution_count": 98
        }
      ]
    },
    {
      "cell_type": "code",
      "source": [],
      "metadata": {
        "id": "iiUnBPAlLtd2"
      },
      "execution_count": null,
      "outputs": []
    }
  ]
}